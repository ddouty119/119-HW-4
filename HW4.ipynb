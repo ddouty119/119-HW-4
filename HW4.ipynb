{
 "cells": [
  {
   "cell_type": "code",
   "execution_count": 1,
   "metadata": {
    "collapsed": true
   },
   "outputs": [],
   "source": [
    "%matplotlib inline\n",
    "import numpy as np\n",
    "import matplotlib.pyplot as plt"
   ]
  },
  {
   "cell_type": "code",
   "execution_count": 2,
   "metadata": {
    "collapsed": true
   },
   "outputs": [],
   "source": [
    "def func(x):\n",
    "    a = -2\n",
    "    b = 10\n",
    "    return np.exp(a*x) * np.cos(b*x)"
   ]
  },
  {
   "cell_type": "markdown",
   "metadata": {},
   "source": [
    "# Trapezoid Method"
   ]
  },
  {
   "cell_type": "code",
   "execution_count": 3,
   "metadata": {
    "collapsed": true
   },
   "outputs": [],
   "source": [
    "#def core of trapezoid method\n",
    "def trap_core(f,x,h):\n",
    "    return 0.5*h*(f(x+h) + f(x))"
   ]
  },
  {
   "cell_type": "code",
   "execution_count": 19,
   "metadata": {},
   "outputs": [],
   "source": [
    "def trap_method(f,a,b,N):\n",
    "    #f = function\n",
    "    #a = lower lim of integration\n",
    "    #b = upper lim\n",
    "    #N = subdivisions\n",
    "    \n",
    "    #define x values for trapezoid \n",
    "    x = np.linspace(0, np.pi ,N)\n",
    "    h = x[1]-x[0]            #define h values\n",
    "   \n",
    "    #define value of the integral\n",
    "    Fint = 0.0\n",
    "    \n",
    "    #iteration counter\n",
    "    i = 0\n",
    "    \n",
    "    #perform integral with trapezoid method\n",
    "    for i in range (0,len(x)-1,1):\n",
    "        Fint += trap_core(f,x[i],h)\n",
    "        i += 1   #add an iteration\n",
    "        \n",
    "    print(\"Found in {} iterations using trapezoid method\" .format(i))\n",
    "        \n",
    "    #return the answer\n",
    "    return Fint"
   ]
  },
  {
   "cell_type": "code",
   "execution_count": 20,
   "metadata": {},
   "outputs": [
    {
     "name": "stdout",
     "output_type": "stream",
     "text": [
      "Trapezoid Method:\n",
      "Found in 9 iterations using trapezoid method\n",
      "0.0600617764683\n"
     ]
    }
   ],
   "source": [
    "print(\"Trapezoid Method:\")\n",
    "print(trap_method(func,0,np.pi,10))"
   ]
  },
  {
   "cell_type": "markdown",
   "metadata": {},
   "source": [
    "# Simpson's Method"
   ]
  },
  {
   "cell_type": "code",
   "execution_count": 11,
   "metadata": {
    "collapsed": true
   },
   "outputs": [],
   "source": [
    "def simpson_core(f,x,h):\n",
    "    return h*( f(x) + 4*f(x+h) + f(x+2*h))/3"
   ]
  },
  {
   "cell_type": "code",
   "execution_count": 21,
   "metadata": {
    "collapsed": true
   },
   "outputs": [],
   "source": [
    "def simpsons_method(f,a,b,N):\n",
    "    #f = function\n",
    "    #a = lower lim of integration\n",
    "    #b = upper lim\n",
    "    #N = subdivisions\n",
    "    \n",
    "    #define x values for simpson's \n",
    "    x = np.linspace(0,np.pi,N)\n",
    "    h = x[1]-x[0]\n",
    "    \n",
    "    #define value of the integral\n",
    "    Fint = 0.0\n",
    "    \n",
    "    #Iteration counter\n",
    "    i = 0\n",
    "    \n",
    "    #perform the integral using simpson's method\n",
    "    for i in range(0,len(x)-2,2):\n",
    "        Fint += simpson_core(f,x[i],h)\n",
    "        i += 1\n",
    "    print(\"Found in {} iterations using Simpson's method\" .format(i))\n",
    "    \n",
    "    #apply simpson's rule over the last interval if N is even\n",
    "    if((N%2)==0):\n",
    "        Fint += simpson_core(f,x[-2],0.5*h)\n",
    "        \n",
    "    return Fint"
   ]
  },
  {
   "cell_type": "code",
   "execution_count": 22,
   "metadata": {},
   "outputs": [
    {
     "name": "stdout",
     "output_type": "stream",
     "text": [
      "Simpson's Method:\n",
      "Found in 7 iterations using Simpson's method\n",
      "-0.0805156655948\n"
     ]
    }
   ],
   "source": [
    "print(\"Simpson's Method:\")\n",
    "print(simpsons_method(func,0,np.pi,10))"
   ]
  },
  {
   "cell_type": "markdown",
   "metadata": {},
   "source": [
    "# Romberg Intregration"
   ]
  },
  {
   "cell_type": "code",
   "execution_count": 14,
   "metadata": {
    "collapsed": true
   },
   "outputs": [],
   "source": [
    "def romb_core(f,a,b,i):\n",
    "    \n",
    "    #difference b-a \n",
    "    h = b-a \n",
    "    \n",
    "    #increment between new func evals\n",
    "    dh = h/2.**(i+1)\n",
    "    \n",
    "    #cofactor \n",
    "    K = h/2.**(i+1)\n",
    "    \n",
    "    #function evaulations\n",
    "    M = 0.0 \n",
    "    for j in range(2**i):\n",
    "        M += f(a + 0.5*dh + j*dh)\n",
    "        \n",
    "    return K*M"
   ]
  },
  {
   "cell_type": "code",
   "execution_count": 25,
   "metadata": {
    "collapsed": true
   },
   "outputs": [],
   "source": [
    "def romberg_integration(f,a,b,tol):\n",
    "    #define an iteration vatiable\n",
    "    i = 0\n",
    "    \n",
    "    #define max number of iterations\n",
    "    imax = 1000\n",
    "    \n",
    "    #define an error estimate set to large value\n",
    "    delta = 100.0*np.fabs(tol)\n",
    "    \n",
    "    #set an array of interal answers\n",
    "    I = np.zeros(imax,dtype=float)\n",
    "    \n",
    "    #get the zeroth romberg iteration\n",
    "    I[0] = 0.5*(b-a)*(f(a) + f(b))\n",
    "    \n",
    "    #iterate by i\n",
    "    i += 1\n",
    "    \n",
    "    while(delta>tol):\n",
    "        #find this romberg integration\n",
    "        I[i] = 0.5*I[i-1] + romb_core(f,a,b,i)\n",
    "        \n",
    "        #compute the new fractional error estimate\n",
    "        delta = np.fabs( (I[i]-I[i-1])/I[i])\n",
    "        \n",
    "        print(i,I[i],I[i-1],delta)\n",
    "        if(delta>tol):\n",
    "            \n",
    "            #iterate\n",
    "            i += 1\n",
    "            \n",
    "            #if we've reached the maximum iterations\n",
    "            if(i>imax):\n",
    "                print(\"Maximum iterations reached.\")\n",
    "                raise StopIteration('Stopping iterations after ',i)\n",
    "                \n",
    "    #reurn the answer            \n",
    "    return I[i]"
   ]
  },
  {
   "cell_type": "code",
   "execution_count": 26,
   "metadata": {},
   "outputs": [
    {
     "name": "stdout",
     "output_type": "stream",
     "text": [
      "Romberg Integration:\n",
      "1 0.586292063879 1.57372969898 1.68420774548\n",
      "2 0.262059284405 0.586292063879 1.23724973229\n",
      "3 0.146424390702 0.262059284405 0.789724260743\n",
      "4 0.0923635407242 0.146424390702 0.585305084175\n",
      "5 0.0660297006303 0.0923635407242 0.398818105223\n",
      "6 0.0530240146934 0.0660297006303 0.245279162888\n",
      "7 0.0465607042554 0.0530240146934 0.13881470526\n",
      "8 0.0433388841393 0.0465607042554 0.0743401723438\n",
      "9 0.0417304298624 0.0433388841393 0.0385439182441\n",
      "10 0.0409268164822 0.0417304298624 0.0196353747808\n",
      "11 0.04052516322 0.0409268164822 0.00991120652756\n",
      "12 0.0403243749451 0.04052516322 0.00497932764374\n",
      "13 0.0402239903967 0.0403243749451 0.00249563873292\n",
      "14 0.0401738005197 0.0402239903967 0.00124931861844\n",
      "15 0.0401487061805 0.0401738005197 0.000625034815725\n",
      "16 0.0401361591608 0.0401487061805 0.000312611371357\n",
      "17 0.0401298856884 0.0401361591608 0.00015632918744\n",
      "18 0.0401267489615 0.0401298856884 7.81704704834e-05\n",
      "19 0.0401251806004 0.0401267489615 3.90867046605e-05\n",
      "20 0.0401243964205 0.0401251806004 1.95437196748e-05\n",
      "21 0.0401240043306 0.0401243964205 9.77195170038e-06\n",
      "22 0.0401238082858 0.0401240043306 4.88599890637e-06\n",
      "23 0.0401237102633 0.0401238082858 2.44300511491e-06\n",
      "24 0.0401236612521 0.0401237102633 1.22150414386e-06\n",
      "25 0.0401236367465 0.0401236612521 6.10751951558e-07\n"
     ]
    }
   ],
   "source": [
    "print(\"Romberg Integration:\")\n",
    "tolerance = 1.0e-6\n",
    "RI = romberg_integration(func,0,np.pi,tolerance)"
   ]
  }
 ],
 "metadata": {
  "kernelspec": {
   "display_name": "Python 3",
   "language": "python",
   "name": "python3"
  },
  "language_info": {
   "codemirror_mode": {
    "name": "ipython",
    "version": 3
   },
   "file_extension": ".py",
   "mimetype": "text/x-python",
   "name": "python",
   "nbconvert_exporter": "python",
   "pygments_lexer": "ipython3",
   "version": "3.6.1"
  }
 },
 "nbformat": 4,
 "nbformat_minor": 2
}
